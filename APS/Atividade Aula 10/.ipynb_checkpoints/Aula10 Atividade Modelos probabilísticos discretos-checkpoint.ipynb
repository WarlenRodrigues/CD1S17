{
 "cells": [
  {
   "cell_type": "markdown",
   "metadata": {},
   "source": [
    "___\n",
    "# Atividade: Modelos probabilísticos discretos e Dados\n",
    "___\n",
    "\n",
    "## Aula 10\n",
    "\n",
    "**Referência de Leitura:**\n",
    "1. Magalhães e Lima (7ª. Edição): Seções 3.2 e 3.3\n",
    "\n",
    "**Hoje:**\n",
    "1.\tDescrever modelos discretos quanto aos resultados teóricos.\n",
    "2.\tExplicar a utilização de modelos probabilísticos no contexto da literatura estatística.\n",
    "3.\tContrastar resultados teóricos e empíricos.\n",
    "4.\tFechamento do conteúdo.\n",
    "\n",
    "**Próxima aula:**\n",
    "1. Leitura prévia necessária: Magalhães e Lima (7ª. Edição): Seção 5.1 (pág. 137) e Seção 5.2 (pág. 146).\n",
    "___"
   ]
  },
  {
   "cell_type": "code",
   "execution_count": 17,
   "metadata": {
    "collapsed": true
   },
   "outputs": [],
   "source": [
    "%matplotlib inline\n",
    "import pandas as pd\n",
    "import matplotlib.pyplot as plt\n",
    "\n",
    "from scipy import stats #importa apenas as funções de estatísticas da biblioteca SciPy.\n",
    "import itertools #importante para gerar todos os resultados possíveis!!\n"
   ]
  },
  {
   "cell_type": "markdown",
   "metadata": {},
   "source": [
    "___\n",
    "## <font color='blue'>Exercício 1</font>\n",
    "\n",
    "Um resistor de 100K Ohms comprado na Santa Efigênia tem probabilidade de falha de 5%, segundo um fabricante ruim.\n",
    "\n",
    "Ainda, por suposição, admita que os resistores falhem de forma independente entre si.\n",
    "\n",
    "Um aluno de engenharia compra um pacote contendo $n$ resistores.\n",
    "\n",
    "1. Assuma $n=3$ e faça os itens a seguir.\n",
    "  1. Monte o espaço amostral que combine todos os resultados possíveis de Falha e não Falha desses $n$ resistores. Ainda, calcule a probabilidade de cada resultado do espaço amostral acontecer.\n",
    "  2. Se $Y$ representa o número de resistores que falham em um pacotinho com $n$ resistores, então construa a distribuição de probabilidades de $Y$.\n",
    "  3. Calcule a média e o desvio padrão de $Y$. Interprete os resultados.\n",
    "  4. Utilizando o modelo probabilístico da distribuição Binomial, encontre a distribuição de probabilidades de cada possível valor de $Y$. Calcule também $E(X)$ e $Var(X)$. Compare com as distribuições de probabilidades obtidas nos itens anteriores e discuta porque esses valores são iguais ou diferentes!\n",
    "   \n",
    "2. Assuma $n=7$ e repita os itens A) a D) anteriores. No caso de $n=7$ ou maiores quantidades de resistores em um pacotinho, qual a viabilidade de construir a distribuição de probabilidades do número de resistores com defeitos quando $n$ não é pequeno seguindo os itens de A) a C)?\n",
    "    \n",
    "> \n",
    "\n",
    "> **DISTRIBUIÇÃO BINOMIAL - TEORIA:**\n",
    "\n",
    "> É responsável por modelar uma variável $Y$ definida pelo Número de sucessos em $n$ tentativas, cuja probabilidade de sucesso é dada por $p$. Assim, dizemos que $Y$~$Bin(n,p)$ e lê-se: $Y$ segue uma distribuição binomial com $n$ tentativas e $p$ como probabilidade de sucesso. \n",
    "\n",
    "> A função de probabilidade nesse caso é dada por:\n",
    "$P(Y=y)=\\left(\n",
    "\\begin{array}{c}\n",
    "    n \\\\\n",
    "    y\n",
    "\\end{array}\\right) p^y (1-p)^{(n-y)}$\n",
    "\n",
    "> Para um experimento ter as probabilidade dos números de sucessos modeladas por uma distribuição Binomial, o mesmo precisa ter as seguintes propriedades:\n",
    "* é uma contagem de $n$ repetições (ou tentativas ou ensaios) idênticas;\n",
    "* cada repetição tem apenas 2 resultados possíveis: um é denominado sucesso e o outro, fracasso;\n",
    "* a probabilidade de sucesso para cada ensaio é denominada $p$ e será constante em cada repetição. Então, a probabilidade de fracasso $(1-p)$ também não varia de tentativa para tentativa;\n",
    "* As tentativas são independentes.\n",
    "\n",
    "\n",
    "> **DISTRIBUIÇÃO BINOMIAL - PYTHON:** <sup> [https://en.wikipedia.org/wiki/SciPy]\n",
    "\n",
    "> Algumas funções úteis para desenvolver seu código: <sup> [http://docs.scipy.org/doc/scipy-0.16.1/reference/generated/scipy.stats.binom.html]\n",
    "* $P(Y=y)$: `stats.binom.pmf(y, n, p)`\n",
    "* $P(Y\\leq y)$: `stats.binom.cdf(y, n, p)`\n",
    "* $E(Y)$ e $Var(Y)$: `stats.binom.stats(n, p, moments='mv')`\n"
   ]
  },
  {
   "cell_type": "markdown",
   "metadata": {},
   "source": [
    "### Item 1"
   ]
  },
  {
   "cell_type": "markdown",
   "metadata": {},
   "source": [
    "#### Métodos tradicionais"
   ]
  },
  {
   "cell_type": "code",
   "execution_count": 18,
   "metadata": {
    "collapsed": false
   },
   "outputs": [
    {
     "data": {
      "text/plain": [
       "[('S', 'S', 'S'),\n",
       " ('S', 'S', 'F'),\n",
       " ('S', 'F', 'S'),\n",
       " ('S', 'F', 'F'),\n",
       " ('F', 'S', 'S'),\n",
       " ('F', 'S', 'F'),\n",
       " ('F', 'F', 'S'),\n",
       " ('F', 'F', 'F')]"
      ]
     },
     "execution_count": 18,
     "metadata": {},
     "output_type": "execute_result"
    }
   ],
   "source": [
    "#item 1\n",
    "n=3\n",
    "possibilidades = ['S','F']\n",
    "prob = {\"S\": 0.95, \"F\":0.05}\n",
    "arranjos = itertools.product(possibilidades, repeat=n)\n",
    "espaco_amostral = list(arranjos)\n",
    "espaco_amostral"
   ]
  },
  {
   "cell_type": "code",
   "execution_count": 19,
   "metadata": {
    "collapsed": false
   },
   "outputs": [
    {
     "name": "stdout",
     "output_type": "stream",
     "text": [
      "Probabilidade de  ('S', 'S', 'S')  é igual a  0.85737\n",
      "Probabilidade de  ('S', 'S', 'F')  é igual a  0.04512\n",
      "Probabilidade de  ('S', 'F', 'S')  é igual a  0.04512\n",
      "Probabilidade de  ('S', 'F', 'F')  é igual a  0.00238\n",
      "Probabilidade de  ('F', 'S', 'S')  é igual a  0.04512\n",
      "Probabilidade de  ('F', 'S', 'F')  é igual a  0.00238\n",
      "Probabilidade de  ('F', 'F', 'S')  é igual a  0.00238\n",
      "Probabilidade de  ('F', 'F', 'F')  é igual a  0.00013\n"
     ]
    }
   ],
   "source": [
    "#Calculando as probabilidades\n",
    "prob_linhas = []\n",
    "\n",
    "for res in espaco_amostral:\n",
    "    p = 1.0\n",
    "    for e in res:\n",
    "        p*=prob[e]\n",
    "    prob_linhas.append(p)\n",
    "    print(\"Probabilidade de \",res,\" é igual a \",\"%3.5f\"%p)"
   ]
  },
  {
   "cell_type": "code",
   "execution_count": 20,
   "metadata": {
    "collapsed": false
   },
   "outputs": [
    {
     "name": "stdout",
     "output_type": "stream",
     "text": [
      "Distribuição de probabilidades da variável aleatória Y - número de resistores que falham\n",
      "\n",
      "Resistores que falham:  0  Probabilidade 0.8573750000 \n",
      "Resistores que falham:  1  Probabilidade 0.1353750000 \n",
      "Resistores que falham:  2  Probabilidade 0.0071250000 \n",
      "Resistores que falham:  3  Probabilidade 0.0001250000 \n"
     ]
    }
   ],
   "source": [
    "# Dicionário para acumular a variável aleatória. \n",
    "valores_Y = {}\n",
    "for i in range(len(espaco_amostral)):\n",
    "    y = espaco_amostral[i].count(\"F\")\n",
    "    # Checar antes se a chave está no dicionário\n",
    "    if y in valores_Y:\n",
    "        valores_Y[y] += prob_linhas[i]\n",
    "    else:\n",
    "        valores_Y[y] = prob_linhas[i]\n",
    "        \n",
    "print(\"Distribuição de probabilidades da variável aleatória Y - número de resistores que falham\")\n",
    "print('')\n",
    "for y in valores_Y:\n",
    "    print(\"Resistores que falham: \", y, \" Probabilidade\", \"%6.10f \"%valores_Y[y])"
   ]
  },
  {
   "cell_type": "code",
   "execution_count": 21,
   "metadata": {
    "collapsed": false
   },
   "outputs": [
    {
     "name": "stdout",
     "output_type": "stream",
     "text": [
      "0.15\n"
     ]
    }
   ],
   "source": [
    "#Calculo de Média\n",
    "media = 0\n",
    "for w in range (len(valores_Y)):\n",
    "    media = media + ( w * valores_Y[w])\n",
    "\n",
    "print(media)"
   ]
  },
  {
   "cell_type": "code",
   "execution_count": 22,
   "metadata": {
    "collapsed": false
   },
   "outputs": [
    {
     "name": "stdout",
     "output_type": "stream",
     "text": [
      "0.37749172176353746\n"
     ]
    }
   ],
   "source": [
    "#Cálculo do Desvio Padrão\n",
    "variancia = 0\n",
    "for z in range (len(valores_Y)):\n",
    "    variancia = variancia + (z - media)**2 * valores_Y[z]\n",
    "    \n",
    "DesvPad = (variancia)**0.5\n",
    "print (DesvPad)"
   ]
  },
  {
   "cell_type": "markdown",
   "metadata": {},
   "source": [
    "#### Métodos da distribuição binomial"
   ]
  },
  {
   "cell_type": "code",
   "execution_count": 23,
   "metadata": {
    "collapsed": false
   },
   "outputs": [
    {
     "data": {
      "text/plain": [
       "[0.857375, 0.135375, 0.0071250000000000072, 0.000125]"
      ]
     },
     "execution_count": 23,
     "metadata": {},
     "output_type": "execute_result"
    }
   ],
   "source": [
    "p = 0.05\n",
    "ps = []\n",
    "\n",
    "for i in range (n+1):\n",
    "    ps.append(stats.binom.pmf(i, n, p))\n",
    "ps"
   ]
  },
  {
   "cell_type": "code",
   "execution_count": 24,
   "metadata": {
    "collapsed": false
   },
   "outputs": [
    {
     "data": {
      "text/plain": [
       "(array(0.15000000000000002), array(0.14250000000000002))"
      ]
     },
     "execution_count": 24,
     "metadata": {},
     "output_type": "execute_result"
    }
   ],
   "source": [
    "a = stats.binom.stats(n, p, moments='mv')\n",
    "a"
   ]
  },
  {
   "cell_type": "markdown",
   "metadata": {},
   "source": [
    "### Item 2\n"
   ]
  },
  {
   "cell_type": "markdown",
   "metadata": {},
   "source": [
    "#### Métodos Tradicionais"
   ]
  },
  {
   "cell_type": "code",
   "execution_count": 25,
   "metadata": {
    "collapsed": false
   },
   "outputs": [
    {
     "data": {
      "text/plain": [
       "[('S', 'S', 'S', 'S', 'S', 'S', 'S'),\n",
       " ('S', 'S', 'S', 'S', 'S', 'S', 'F'),\n",
       " ('S', 'S', 'S', 'S', 'S', 'F', 'S'),\n",
       " ('S', 'S', 'S', 'S', 'S', 'F', 'F'),\n",
       " ('S', 'S', 'S', 'S', 'F', 'S', 'S'),\n",
       " ('S', 'S', 'S', 'S', 'F', 'S', 'F'),\n",
       " ('S', 'S', 'S', 'S', 'F', 'F', 'S'),\n",
       " ('S', 'S', 'S', 'S', 'F', 'F', 'F'),\n",
       " ('S', 'S', 'S', 'F', 'S', 'S', 'S'),\n",
       " ('S', 'S', 'S', 'F', 'S', 'S', 'F'),\n",
       " ('S', 'S', 'S', 'F', 'S', 'F', 'S'),\n",
       " ('S', 'S', 'S', 'F', 'S', 'F', 'F'),\n",
       " ('S', 'S', 'S', 'F', 'F', 'S', 'S'),\n",
       " ('S', 'S', 'S', 'F', 'F', 'S', 'F'),\n",
       " ('S', 'S', 'S', 'F', 'F', 'F', 'S'),\n",
       " ('S', 'S', 'S', 'F', 'F', 'F', 'F'),\n",
       " ('S', 'S', 'F', 'S', 'S', 'S', 'S'),\n",
       " ('S', 'S', 'F', 'S', 'S', 'S', 'F'),\n",
       " ('S', 'S', 'F', 'S', 'S', 'F', 'S'),\n",
       " ('S', 'S', 'F', 'S', 'S', 'F', 'F'),\n",
       " ('S', 'S', 'F', 'S', 'F', 'S', 'S'),\n",
       " ('S', 'S', 'F', 'S', 'F', 'S', 'F'),\n",
       " ('S', 'S', 'F', 'S', 'F', 'F', 'S'),\n",
       " ('S', 'S', 'F', 'S', 'F', 'F', 'F'),\n",
       " ('S', 'S', 'F', 'F', 'S', 'S', 'S'),\n",
       " ('S', 'S', 'F', 'F', 'S', 'S', 'F'),\n",
       " ('S', 'S', 'F', 'F', 'S', 'F', 'S'),\n",
       " ('S', 'S', 'F', 'F', 'S', 'F', 'F'),\n",
       " ('S', 'S', 'F', 'F', 'F', 'S', 'S'),\n",
       " ('S', 'S', 'F', 'F', 'F', 'S', 'F'),\n",
       " ('S', 'S', 'F', 'F', 'F', 'F', 'S'),\n",
       " ('S', 'S', 'F', 'F', 'F', 'F', 'F'),\n",
       " ('S', 'F', 'S', 'S', 'S', 'S', 'S'),\n",
       " ('S', 'F', 'S', 'S', 'S', 'S', 'F'),\n",
       " ('S', 'F', 'S', 'S', 'S', 'F', 'S'),\n",
       " ('S', 'F', 'S', 'S', 'S', 'F', 'F'),\n",
       " ('S', 'F', 'S', 'S', 'F', 'S', 'S'),\n",
       " ('S', 'F', 'S', 'S', 'F', 'S', 'F'),\n",
       " ('S', 'F', 'S', 'S', 'F', 'F', 'S'),\n",
       " ('S', 'F', 'S', 'S', 'F', 'F', 'F'),\n",
       " ('S', 'F', 'S', 'F', 'S', 'S', 'S'),\n",
       " ('S', 'F', 'S', 'F', 'S', 'S', 'F'),\n",
       " ('S', 'F', 'S', 'F', 'S', 'F', 'S'),\n",
       " ('S', 'F', 'S', 'F', 'S', 'F', 'F'),\n",
       " ('S', 'F', 'S', 'F', 'F', 'S', 'S'),\n",
       " ('S', 'F', 'S', 'F', 'F', 'S', 'F'),\n",
       " ('S', 'F', 'S', 'F', 'F', 'F', 'S'),\n",
       " ('S', 'F', 'S', 'F', 'F', 'F', 'F'),\n",
       " ('S', 'F', 'F', 'S', 'S', 'S', 'S'),\n",
       " ('S', 'F', 'F', 'S', 'S', 'S', 'F'),\n",
       " ('S', 'F', 'F', 'S', 'S', 'F', 'S'),\n",
       " ('S', 'F', 'F', 'S', 'S', 'F', 'F'),\n",
       " ('S', 'F', 'F', 'S', 'F', 'S', 'S'),\n",
       " ('S', 'F', 'F', 'S', 'F', 'S', 'F'),\n",
       " ('S', 'F', 'F', 'S', 'F', 'F', 'S'),\n",
       " ('S', 'F', 'F', 'S', 'F', 'F', 'F'),\n",
       " ('S', 'F', 'F', 'F', 'S', 'S', 'S'),\n",
       " ('S', 'F', 'F', 'F', 'S', 'S', 'F'),\n",
       " ('S', 'F', 'F', 'F', 'S', 'F', 'S'),\n",
       " ('S', 'F', 'F', 'F', 'S', 'F', 'F'),\n",
       " ('S', 'F', 'F', 'F', 'F', 'S', 'S'),\n",
       " ('S', 'F', 'F', 'F', 'F', 'S', 'F'),\n",
       " ('S', 'F', 'F', 'F', 'F', 'F', 'S'),\n",
       " ('S', 'F', 'F', 'F', 'F', 'F', 'F'),\n",
       " ('F', 'S', 'S', 'S', 'S', 'S', 'S'),\n",
       " ('F', 'S', 'S', 'S', 'S', 'S', 'F'),\n",
       " ('F', 'S', 'S', 'S', 'S', 'F', 'S'),\n",
       " ('F', 'S', 'S', 'S', 'S', 'F', 'F'),\n",
       " ('F', 'S', 'S', 'S', 'F', 'S', 'S'),\n",
       " ('F', 'S', 'S', 'S', 'F', 'S', 'F'),\n",
       " ('F', 'S', 'S', 'S', 'F', 'F', 'S'),\n",
       " ('F', 'S', 'S', 'S', 'F', 'F', 'F'),\n",
       " ('F', 'S', 'S', 'F', 'S', 'S', 'S'),\n",
       " ('F', 'S', 'S', 'F', 'S', 'S', 'F'),\n",
       " ('F', 'S', 'S', 'F', 'S', 'F', 'S'),\n",
       " ('F', 'S', 'S', 'F', 'S', 'F', 'F'),\n",
       " ('F', 'S', 'S', 'F', 'F', 'S', 'S'),\n",
       " ('F', 'S', 'S', 'F', 'F', 'S', 'F'),\n",
       " ('F', 'S', 'S', 'F', 'F', 'F', 'S'),\n",
       " ('F', 'S', 'S', 'F', 'F', 'F', 'F'),\n",
       " ('F', 'S', 'F', 'S', 'S', 'S', 'S'),\n",
       " ('F', 'S', 'F', 'S', 'S', 'S', 'F'),\n",
       " ('F', 'S', 'F', 'S', 'S', 'F', 'S'),\n",
       " ('F', 'S', 'F', 'S', 'S', 'F', 'F'),\n",
       " ('F', 'S', 'F', 'S', 'F', 'S', 'S'),\n",
       " ('F', 'S', 'F', 'S', 'F', 'S', 'F'),\n",
       " ('F', 'S', 'F', 'S', 'F', 'F', 'S'),\n",
       " ('F', 'S', 'F', 'S', 'F', 'F', 'F'),\n",
       " ('F', 'S', 'F', 'F', 'S', 'S', 'S'),\n",
       " ('F', 'S', 'F', 'F', 'S', 'S', 'F'),\n",
       " ('F', 'S', 'F', 'F', 'S', 'F', 'S'),\n",
       " ('F', 'S', 'F', 'F', 'S', 'F', 'F'),\n",
       " ('F', 'S', 'F', 'F', 'F', 'S', 'S'),\n",
       " ('F', 'S', 'F', 'F', 'F', 'S', 'F'),\n",
       " ('F', 'S', 'F', 'F', 'F', 'F', 'S'),\n",
       " ('F', 'S', 'F', 'F', 'F', 'F', 'F'),\n",
       " ('F', 'F', 'S', 'S', 'S', 'S', 'S'),\n",
       " ('F', 'F', 'S', 'S', 'S', 'S', 'F'),\n",
       " ('F', 'F', 'S', 'S', 'S', 'F', 'S'),\n",
       " ('F', 'F', 'S', 'S', 'S', 'F', 'F'),\n",
       " ('F', 'F', 'S', 'S', 'F', 'S', 'S'),\n",
       " ('F', 'F', 'S', 'S', 'F', 'S', 'F'),\n",
       " ('F', 'F', 'S', 'S', 'F', 'F', 'S'),\n",
       " ('F', 'F', 'S', 'S', 'F', 'F', 'F'),\n",
       " ('F', 'F', 'S', 'F', 'S', 'S', 'S'),\n",
       " ('F', 'F', 'S', 'F', 'S', 'S', 'F'),\n",
       " ('F', 'F', 'S', 'F', 'S', 'F', 'S'),\n",
       " ('F', 'F', 'S', 'F', 'S', 'F', 'F'),\n",
       " ('F', 'F', 'S', 'F', 'F', 'S', 'S'),\n",
       " ('F', 'F', 'S', 'F', 'F', 'S', 'F'),\n",
       " ('F', 'F', 'S', 'F', 'F', 'F', 'S'),\n",
       " ('F', 'F', 'S', 'F', 'F', 'F', 'F'),\n",
       " ('F', 'F', 'F', 'S', 'S', 'S', 'S'),\n",
       " ('F', 'F', 'F', 'S', 'S', 'S', 'F'),\n",
       " ('F', 'F', 'F', 'S', 'S', 'F', 'S'),\n",
       " ('F', 'F', 'F', 'S', 'S', 'F', 'F'),\n",
       " ('F', 'F', 'F', 'S', 'F', 'S', 'S'),\n",
       " ('F', 'F', 'F', 'S', 'F', 'S', 'F'),\n",
       " ('F', 'F', 'F', 'S', 'F', 'F', 'S'),\n",
       " ('F', 'F', 'F', 'S', 'F', 'F', 'F'),\n",
       " ('F', 'F', 'F', 'F', 'S', 'S', 'S'),\n",
       " ('F', 'F', 'F', 'F', 'S', 'S', 'F'),\n",
       " ('F', 'F', 'F', 'F', 'S', 'F', 'S'),\n",
       " ('F', 'F', 'F', 'F', 'S', 'F', 'F'),\n",
       " ('F', 'F', 'F', 'F', 'F', 'S', 'S'),\n",
       " ('F', 'F', 'F', 'F', 'F', 'S', 'F'),\n",
       " ('F', 'F', 'F', 'F', 'F', 'F', 'S'),\n",
       " ('F', 'F', 'F', 'F', 'F', 'F', 'F')]"
      ]
     },
     "execution_count": 25,
     "metadata": {},
     "output_type": "execute_result"
    }
   ],
   "source": [
    "n=7\n",
    "possibilidades = ['S','F']\n",
    "prob = {\"S\": 0.95, \"F\":0.05}\n",
    "arranjos = itertools.product(possibilidades, repeat=n)\n",
    "espaco_amostral = list(arranjos)\n",
    "espaco_amostral"
   ]
  },
  {
   "cell_type": "code",
   "execution_count": 26,
   "metadata": {
    "collapsed": false
   },
   "outputs": [
    {
     "name": "stdout",
     "output_type": "stream",
     "text": [
      "Probabilidade de  ('S', 'S', 'S', 'S', 'S', 'S', 'S')  é igual a  0.69834\n",
      "Probabilidade de  ('S', 'S', 'S', 'S', 'S', 'S', 'F')  é igual a  0.03675\n",
      "Probabilidade de  ('S', 'S', 'S', 'S', 'S', 'F', 'S')  é igual a  0.03675\n",
      "Probabilidade de  ('S', 'S', 'S', 'S', 'S', 'F', 'F')  é igual a  0.00193\n",
      "Probabilidade de  ('S', 'S', 'S', 'S', 'F', 'S', 'S')  é igual a  0.03675\n",
      "Probabilidade de  ('S', 'S', 'S', 'S', 'F', 'S', 'F')  é igual a  0.00193\n",
      "Probabilidade de  ('S', 'S', 'S', 'S', 'F', 'F', 'S')  é igual a  0.00193\n",
      "Probabilidade de  ('S', 'S', 'S', 'S', 'F', 'F', 'F')  é igual a  0.00010\n",
      "Probabilidade de  ('S', 'S', 'S', 'F', 'S', 'S', 'S')  é igual a  0.03675\n",
      "Probabilidade de  ('S', 'S', 'S', 'F', 'S', 'S', 'F')  é igual a  0.00193\n",
      "Probabilidade de  ('S', 'S', 'S', 'F', 'S', 'F', 'S')  é igual a  0.00193\n",
      "Probabilidade de  ('S', 'S', 'S', 'F', 'S', 'F', 'F')  é igual a  0.00010\n",
      "Probabilidade de  ('S', 'S', 'S', 'F', 'F', 'S', 'S')  é igual a  0.00193\n",
      "Probabilidade de  ('S', 'S', 'S', 'F', 'F', 'S', 'F')  é igual a  0.00010\n",
      "Probabilidade de  ('S', 'S', 'S', 'F', 'F', 'F', 'S')  é igual a  0.00010\n",
      "Probabilidade de  ('S', 'S', 'S', 'F', 'F', 'F', 'F')  é igual a  0.00001\n",
      "Probabilidade de  ('S', 'S', 'F', 'S', 'S', 'S', 'S')  é igual a  0.03675\n",
      "Probabilidade de  ('S', 'S', 'F', 'S', 'S', 'S', 'F')  é igual a  0.00193\n",
      "Probabilidade de  ('S', 'S', 'F', 'S', 'S', 'F', 'S')  é igual a  0.00193\n",
      "Probabilidade de  ('S', 'S', 'F', 'S', 'S', 'F', 'F')  é igual a  0.00010\n",
      "Probabilidade de  ('S', 'S', 'F', 'S', 'F', 'S', 'S')  é igual a  0.00193\n",
      "Probabilidade de  ('S', 'S', 'F', 'S', 'F', 'S', 'F')  é igual a  0.00010\n",
      "Probabilidade de  ('S', 'S', 'F', 'S', 'F', 'F', 'S')  é igual a  0.00010\n",
      "Probabilidade de  ('S', 'S', 'F', 'S', 'F', 'F', 'F')  é igual a  0.00001\n",
      "Probabilidade de  ('S', 'S', 'F', 'F', 'S', 'S', 'S')  é igual a  0.00193\n",
      "Probabilidade de  ('S', 'S', 'F', 'F', 'S', 'S', 'F')  é igual a  0.00010\n",
      "Probabilidade de  ('S', 'S', 'F', 'F', 'S', 'F', 'S')  é igual a  0.00010\n",
      "Probabilidade de  ('S', 'S', 'F', 'F', 'S', 'F', 'F')  é igual a  0.00001\n",
      "Probabilidade de  ('S', 'S', 'F', 'F', 'F', 'S', 'S')  é igual a  0.00010\n",
      "Probabilidade de  ('S', 'S', 'F', 'F', 'F', 'S', 'F')  é igual a  0.00001\n",
      "Probabilidade de  ('S', 'S', 'F', 'F', 'F', 'F', 'S')  é igual a  0.00001\n",
      "Probabilidade de  ('S', 'S', 'F', 'F', 'F', 'F', 'F')  é igual a  0.00000\n",
      "Probabilidade de  ('S', 'F', 'S', 'S', 'S', 'S', 'S')  é igual a  0.03675\n",
      "Probabilidade de  ('S', 'F', 'S', 'S', 'S', 'S', 'F')  é igual a  0.00193\n",
      "Probabilidade de  ('S', 'F', 'S', 'S', 'S', 'F', 'S')  é igual a  0.00193\n",
      "Probabilidade de  ('S', 'F', 'S', 'S', 'S', 'F', 'F')  é igual a  0.00010\n",
      "Probabilidade de  ('S', 'F', 'S', 'S', 'F', 'S', 'S')  é igual a  0.00193\n",
      "Probabilidade de  ('S', 'F', 'S', 'S', 'F', 'S', 'F')  é igual a  0.00010\n",
      "Probabilidade de  ('S', 'F', 'S', 'S', 'F', 'F', 'S')  é igual a  0.00010\n",
      "Probabilidade de  ('S', 'F', 'S', 'S', 'F', 'F', 'F')  é igual a  0.00001\n",
      "Probabilidade de  ('S', 'F', 'S', 'F', 'S', 'S', 'S')  é igual a  0.00193\n",
      "Probabilidade de  ('S', 'F', 'S', 'F', 'S', 'S', 'F')  é igual a  0.00010\n",
      "Probabilidade de  ('S', 'F', 'S', 'F', 'S', 'F', 'S')  é igual a  0.00010\n",
      "Probabilidade de  ('S', 'F', 'S', 'F', 'S', 'F', 'F')  é igual a  0.00001\n",
      "Probabilidade de  ('S', 'F', 'S', 'F', 'F', 'S', 'S')  é igual a  0.00010\n",
      "Probabilidade de  ('S', 'F', 'S', 'F', 'F', 'S', 'F')  é igual a  0.00001\n",
      "Probabilidade de  ('S', 'F', 'S', 'F', 'F', 'F', 'S')  é igual a  0.00001\n",
      "Probabilidade de  ('S', 'F', 'S', 'F', 'F', 'F', 'F')  é igual a  0.00000\n",
      "Probabilidade de  ('S', 'F', 'F', 'S', 'S', 'S', 'S')  é igual a  0.00193\n",
      "Probabilidade de  ('S', 'F', 'F', 'S', 'S', 'S', 'F')  é igual a  0.00010\n",
      "Probabilidade de  ('S', 'F', 'F', 'S', 'S', 'F', 'S')  é igual a  0.00010\n",
      "Probabilidade de  ('S', 'F', 'F', 'S', 'S', 'F', 'F')  é igual a  0.00001\n",
      "Probabilidade de  ('S', 'F', 'F', 'S', 'F', 'S', 'S')  é igual a  0.00010\n",
      "Probabilidade de  ('S', 'F', 'F', 'S', 'F', 'S', 'F')  é igual a  0.00001\n",
      "Probabilidade de  ('S', 'F', 'F', 'S', 'F', 'F', 'S')  é igual a  0.00001\n",
      "Probabilidade de  ('S', 'F', 'F', 'S', 'F', 'F', 'F')  é igual a  0.00000\n",
      "Probabilidade de  ('S', 'F', 'F', 'F', 'S', 'S', 'S')  é igual a  0.00010\n",
      "Probabilidade de  ('S', 'F', 'F', 'F', 'S', 'S', 'F')  é igual a  0.00001\n",
      "Probabilidade de  ('S', 'F', 'F', 'F', 'S', 'F', 'S')  é igual a  0.00001\n",
      "Probabilidade de  ('S', 'F', 'F', 'F', 'S', 'F', 'F')  é igual a  0.00000\n",
      "Probabilidade de  ('S', 'F', 'F', 'F', 'F', 'S', 'S')  é igual a  0.00001\n",
      "Probabilidade de  ('S', 'F', 'F', 'F', 'F', 'S', 'F')  é igual a  0.00000\n",
      "Probabilidade de  ('S', 'F', 'F', 'F', 'F', 'F', 'S')  é igual a  0.00000\n",
      "Probabilidade de  ('S', 'F', 'F', 'F', 'F', 'F', 'F')  é igual a  0.00000\n",
      "Probabilidade de  ('F', 'S', 'S', 'S', 'S', 'S', 'S')  é igual a  0.03675\n",
      "Probabilidade de  ('F', 'S', 'S', 'S', 'S', 'S', 'F')  é igual a  0.00193\n",
      "Probabilidade de  ('F', 'S', 'S', 'S', 'S', 'F', 'S')  é igual a  0.00193\n",
      "Probabilidade de  ('F', 'S', 'S', 'S', 'S', 'F', 'F')  é igual a  0.00010\n",
      "Probabilidade de  ('F', 'S', 'S', 'S', 'F', 'S', 'S')  é igual a  0.00193\n",
      "Probabilidade de  ('F', 'S', 'S', 'S', 'F', 'S', 'F')  é igual a  0.00010\n",
      "Probabilidade de  ('F', 'S', 'S', 'S', 'F', 'F', 'S')  é igual a  0.00010\n",
      "Probabilidade de  ('F', 'S', 'S', 'S', 'F', 'F', 'F')  é igual a  0.00001\n",
      "Probabilidade de  ('F', 'S', 'S', 'F', 'S', 'S', 'S')  é igual a  0.00193\n",
      "Probabilidade de  ('F', 'S', 'S', 'F', 'S', 'S', 'F')  é igual a  0.00010\n",
      "Probabilidade de  ('F', 'S', 'S', 'F', 'S', 'F', 'S')  é igual a  0.00010\n",
      "Probabilidade de  ('F', 'S', 'S', 'F', 'S', 'F', 'F')  é igual a  0.00001\n",
      "Probabilidade de  ('F', 'S', 'S', 'F', 'F', 'S', 'S')  é igual a  0.00010\n",
      "Probabilidade de  ('F', 'S', 'S', 'F', 'F', 'S', 'F')  é igual a  0.00001\n",
      "Probabilidade de  ('F', 'S', 'S', 'F', 'F', 'F', 'S')  é igual a  0.00001\n",
      "Probabilidade de  ('F', 'S', 'S', 'F', 'F', 'F', 'F')  é igual a  0.00000\n",
      "Probabilidade de  ('F', 'S', 'F', 'S', 'S', 'S', 'S')  é igual a  0.00193\n",
      "Probabilidade de  ('F', 'S', 'F', 'S', 'S', 'S', 'F')  é igual a  0.00010\n",
      "Probabilidade de  ('F', 'S', 'F', 'S', 'S', 'F', 'S')  é igual a  0.00010\n",
      "Probabilidade de  ('F', 'S', 'F', 'S', 'S', 'F', 'F')  é igual a  0.00001\n",
      "Probabilidade de  ('F', 'S', 'F', 'S', 'F', 'S', 'S')  é igual a  0.00010\n",
      "Probabilidade de  ('F', 'S', 'F', 'S', 'F', 'S', 'F')  é igual a  0.00001\n",
      "Probabilidade de  ('F', 'S', 'F', 'S', 'F', 'F', 'S')  é igual a  0.00001\n",
      "Probabilidade de  ('F', 'S', 'F', 'S', 'F', 'F', 'F')  é igual a  0.00000\n",
      "Probabilidade de  ('F', 'S', 'F', 'F', 'S', 'S', 'S')  é igual a  0.00010\n",
      "Probabilidade de  ('F', 'S', 'F', 'F', 'S', 'S', 'F')  é igual a  0.00001\n",
      "Probabilidade de  ('F', 'S', 'F', 'F', 'S', 'F', 'S')  é igual a  0.00001\n",
      "Probabilidade de  ('F', 'S', 'F', 'F', 'S', 'F', 'F')  é igual a  0.00000\n",
      "Probabilidade de  ('F', 'S', 'F', 'F', 'F', 'S', 'S')  é igual a  0.00001\n",
      "Probabilidade de  ('F', 'S', 'F', 'F', 'F', 'S', 'F')  é igual a  0.00000\n",
      "Probabilidade de  ('F', 'S', 'F', 'F', 'F', 'F', 'S')  é igual a  0.00000\n",
      "Probabilidade de  ('F', 'S', 'F', 'F', 'F', 'F', 'F')  é igual a  0.00000\n",
      "Probabilidade de  ('F', 'F', 'S', 'S', 'S', 'S', 'S')  é igual a  0.00193\n",
      "Probabilidade de  ('F', 'F', 'S', 'S', 'S', 'S', 'F')  é igual a  0.00010\n",
      "Probabilidade de  ('F', 'F', 'S', 'S', 'S', 'F', 'S')  é igual a  0.00010\n",
      "Probabilidade de  ('F', 'F', 'S', 'S', 'S', 'F', 'F')  é igual a  0.00001\n",
      "Probabilidade de  ('F', 'F', 'S', 'S', 'F', 'S', 'S')  é igual a  0.00010\n",
      "Probabilidade de  ('F', 'F', 'S', 'S', 'F', 'S', 'F')  é igual a  0.00001\n",
      "Probabilidade de  ('F', 'F', 'S', 'S', 'F', 'F', 'S')  é igual a  0.00001\n",
      "Probabilidade de  ('F', 'F', 'S', 'S', 'F', 'F', 'F')  é igual a  0.00000\n",
      "Probabilidade de  ('F', 'F', 'S', 'F', 'S', 'S', 'S')  é igual a  0.00010\n",
      "Probabilidade de  ('F', 'F', 'S', 'F', 'S', 'S', 'F')  é igual a  0.00001\n",
      "Probabilidade de  ('F', 'F', 'S', 'F', 'S', 'F', 'S')  é igual a  0.00001\n",
      "Probabilidade de  ('F', 'F', 'S', 'F', 'S', 'F', 'F')  é igual a  0.00000\n",
      "Probabilidade de  ('F', 'F', 'S', 'F', 'F', 'S', 'S')  é igual a  0.00001\n",
      "Probabilidade de  ('F', 'F', 'S', 'F', 'F', 'S', 'F')  é igual a  0.00000\n",
      "Probabilidade de  ('F', 'F', 'S', 'F', 'F', 'F', 'S')  é igual a  0.00000\n",
      "Probabilidade de  ('F', 'F', 'S', 'F', 'F', 'F', 'F')  é igual a  0.00000\n",
      "Probabilidade de  ('F', 'F', 'F', 'S', 'S', 'S', 'S')  é igual a  0.00010\n",
      "Probabilidade de  ('F', 'F', 'F', 'S', 'S', 'S', 'F')  é igual a  0.00001\n",
      "Probabilidade de  ('F', 'F', 'F', 'S', 'S', 'F', 'S')  é igual a  0.00001\n",
      "Probabilidade de  ('F', 'F', 'F', 'S', 'S', 'F', 'F')  é igual a  0.00000\n",
      "Probabilidade de  ('F', 'F', 'F', 'S', 'F', 'S', 'S')  é igual a  0.00001\n",
      "Probabilidade de  ('F', 'F', 'F', 'S', 'F', 'S', 'F')  é igual a  0.00000\n",
      "Probabilidade de  ('F', 'F', 'F', 'S', 'F', 'F', 'S')  é igual a  0.00000\n",
      "Probabilidade de  ('F', 'F', 'F', 'S', 'F', 'F', 'F')  é igual a  0.00000\n",
      "Probabilidade de  ('F', 'F', 'F', 'F', 'S', 'S', 'S')  é igual a  0.00001\n",
      "Probabilidade de  ('F', 'F', 'F', 'F', 'S', 'S', 'F')  é igual a  0.00000\n",
      "Probabilidade de  ('F', 'F', 'F', 'F', 'S', 'F', 'S')  é igual a  0.00000\n",
      "Probabilidade de  ('F', 'F', 'F', 'F', 'S', 'F', 'F')  é igual a  0.00000\n",
      "Probabilidade de  ('F', 'F', 'F', 'F', 'F', 'S', 'S')  é igual a  0.00000\n",
      "Probabilidade de  ('F', 'F', 'F', 'F', 'F', 'S', 'F')  é igual a  0.00000\n",
      "Probabilidade de  ('F', 'F', 'F', 'F', 'F', 'F', 'S')  é igual a  0.00000\n",
      "Probabilidade de  ('F', 'F', 'F', 'F', 'F', 'F', 'F')  é igual a  0.00000\n"
     ]
    }
   ],
   "source": [
    "#Calculando as probabilidades\n",
    "prob_linhas = []\n",
    "\n",
    "for res in espaco_amostral:\n",
    "    p = 1.0\n",
    "    for e in res:\n",
    "        p*=prob[e]\n",
    "    prob_linhas.append(p)\n",
    "    print(\"Probabilidade de \",res,\" é igual a \",\"%3.5f\"%p)"
   ]
  },
  {
   "cell_type": "code",
   "execution_count": 27,
   "metadata": {
    "collapsed": false
   },
   "outputs": [
    {
     "name": "stdout",
     "output_type": "stream",
     "text": [
      "Distribuição de probabilidades da variável aleatória Y - número de resistores que falham\n",
      "\n",
      "Resistores que falham:  0  Probabilidade 0.6983372961 \n",
      "Resistores que falham:  1  Probabilidade 0.2572821617 \n",
      "Resistores que falham:  2  Probabilidade 0.0406234992 \n",
      "Resistores que falham:  3  Probabilidade 0.0035634648 \n",
      "Resistores que falham:  4  Probabilidade 0.0001875508 \n",
      "Resistores que falham:  5  Probabilidade 0.0000059227 \n",
      "Resistores que falham:  6  Probabilidade 0.0000001039 \n",
      "Resistores que falham:  7  Probabilidade 0.0000000008 \n"
     ]
    }
   ],
   "source": [
    "# Dicionário para acumular a variável aleatória. \n",
    "valores_Y = {}\n",
    "for i in range(len(espaco_amostral)):\n",
    "    y = espaco_amostral[i].count(\"F\")\n",
    "    # Checar antes se a chave está no dicionário\n",
    "    if y in valores_Y:\n",
    "        valores_Y[y] += prob_linhas[i]\n",
    "    else:\n",
    "        valores_Y[y] = prob_linhas[i]\n",
    "        \n",
    "print(\"Distribuição de probabilidades da variável aleatória Y - número de resistores que falham\")\n",
    "print('')\n",
    "for y in valores_Y:\n",
    "    print(\"Resistores que falham: \", y, \" Probabilidade\", \"%6.10f \"%valores_Y[y])"
   ]
  },
  {
   "cell_type": "code",
   "execution_count": 28,
   "metadata": {
    "collapsed": false
   },
   "outputs": [
    {
     "name": "stdout",
     "output_type": "stream",
     "text": [
      "0.35\n"
     ]
    }
   ],
   "source": [
    "#Calculo de Média\n",
    "media = 0\n",
    "for w in range (len(valores_Y)):\n",
    "    media = media + ( w * valores_Y[w])\n",
    "\n",
    "print(media)"
   ]
  },
  {
   "cell_type": "code",
   "execution_count": 29,
   "metadata": {
    "collapsed": false
   },
   "outputs": [
    {
     "name": "stdout",
     "output_type": "stream",
     "text": [
      "0.5766281297335397\n"
     ]
    }
   ],
   "source": [
    "#Cálculo do Desvio Padrão\n",
    "variancia = 0\n",
    "for z in range (len(valores_Y)):\n",
    "    variancia = variancia + (z - media)**2 * valores_Y[z]\n",
    "    \n",
    "DesvPad = (variancia)**0.5\n",
    "print (DesvPad)"
   ]
  },
  {
   "cell_type": "markdown",
   "metadata": {},
   "source": [
    "#### Métodos da distribuição binomial"
   ]
  },
  {
   "cell_type": "code",
   "execution_count": 30,
   "metadata": {
    "collapsed": false
   },
   "outputs": [
    {
     "data": {
      "text/plain": [
       "[0.69833729609374995,\n",
       " 0.25728216171875012,\n",
       " 0.040623499218750039,\n",
       " 0.0035634648437500001,\n",
       " 0.00018755078124999986,\n",
       " 5.922656250000019e-06,\n",
       " 1.0390624999999968e-07,\n",
       " 7.8125000000000038e-10]"
      ]
     },
     "execution_count": 30,
     "metadata": {},
     "output_type": "execute_result"
    }
   ],
   "source": [
    "p = 0.05\n",
    "ps = []\n",
    "\n",
    "for i in range (n+1):\n",
    "    ps.append(stats.binom.pmf(i, n, p))\n",
    "ps"
   ]
  },
  {
   "cell_type": "code",
   "execution_count": 31,
   "metadata": {
    "collapsed": false
   },
   "outputs": [
    {
     "data": {
      "text/plain": [
       "(array(0.35000000000000003), array(0.3325))"
      ]
     },
     "execution_count": 31,
     "metadata": {},
     "output_type": "execute_result"
    }
   ],
   "source": [
    "a = stats.binom.stats(n, p, moments='mv')\n",
    "a"
   ]
  },
  {
   "cell_type": "markdown",
   "metadata": {},
   "source": [
    "___\n",
    "## <font color='blue'>Exercício 2</font> \n",
    "\n",
    "### <font color='red'>**Publicar no github até dia 21/03 INDIVIDUAL **</font>\n",
    "\n",
    "Esse exercício irá explorar uma modelagem de dados reais.\n",
    "\n",
    "> **Confira alguns itens obrigatórios verificados durante a vistoria do Detran**\n",
    "\n",
    "> *Todos os veículos, novos ou velhos, precisam passar por uma vistoria todos os anos. (...) O motorista precisa estar atento a alguns itens obrigatórios. Tudo deve funcionar perfeitamente, apresentar bom estado de conservação e estar dentro do prazo de validade.*\n",
    "\n",
    "> <sup>Fonte: http://extra.globo.com/noticias/brasil/transito-seguro/confira-alguns-itens-obrigatorios-verificados-durante-vistoria-do-detran-10190355.html</sup>\n",
    "\n",
    "Essa matéria lista 14 itens que são inspecionados pelo Detran, dentre os quais têm-se: extintor de incêndio deve estar dentro do prazo de validade; pneus devem estar em bom estado de conservação; buzina deve funcionar perfeitamente; e cintos de segurança para todos os ocupantes do carro. Se, no final das contas, todos os 14 itens estiverem funcionando perfeitamente, o motorista irá feliz para casa assegurado de que seu carro está sem problemas com a vistoria.\n",
    "\n",
    "1. A base de dados `Carros.txt` apresenta, para cada um dos três mil carros de passeio vistoriados, duas informações: tipo de carro (1: Popular e 2: Não Popular) e quantidade de itens vistoriados em não conformidade (que pode variar de 0 a 14). \n",
    "    1. Considerando todos os carros, analise a quantidade de itens vistoriados em não conformidade. Pela tabela de frequências relativas, calcule a média e variância dessa quantidade. Interprete-os.\n",
    "    2. Assuma que a variável *Quantidade de itens em não conformidade* possa ser ajustada pelo modelo Binomial com parâmetros $n=14$ e $p=0,10$. Interprete esses parâmetros para o problema em questão e, ainda, discuta se as propriedades da distribuição Binomial estão satisfeitas para o problema aqui me questão.\n",
    "    \n",
    "    **Independente da sua resposta anterior, considere que a distribuição binomial seja adequada para modelar a variável de interesse nos próximos itens!**\n",
    "    3. Utilizando o método `stats.binom.pmf`, obtenha a probabilidade de cada uma das quantidades de itens em não conformidade quando $n=14$ e $p=0,10$. Calcule o valor esperado e a variância da quantidade de itens em não conformidade utilizando o método `stats.binom.stats` e via resultado da Tabela 4.4 do Magalhães e Lima (pág. 125).\n",
    "    4. Compare as probabilidades teóricas com as frequências relativas observadas nos dados. Para isso, tem-se, por exemplo, as duas opções abaixo para comparar se os resultados empíricos se encaixam com o modelo teórico proposto. \n",
    "        - A primeira opção gráfica contrasta a frequência relativa e a probabilidade teórica para uma determinada quantidade de itens em não conformidade! Vide Figura 3.4 do livro Magalhães e Lima (pág. 87). Ou seja, essa opção contrasta a frequência relativa em um valor de $y$ e a probabilidade pontual $P(Y=y)$.\n",
    "        - A segunda contrasta a frequência relativa acumulada com a probabilidade acumulada até determinada quantidade de itens em não conformidade. Ou seja, compara a frequência relativa acumulada até $y$ com a probabilidade acumulada $P(Y\\leq y)$.\n",
    "    Construa os gráficos de acordo com as duas opções e refine sua conclusão quanto ao uso do modelo teórico para ajustar a variável em questão!\n",
    "    5. Na prática, qual a necessidade de um modelo probabilístico já que se têm os dados observados?\n",
    "    6. Considerando apenas os carros populares, o modelo Binomial com parâmetros $n=14$ e $p=0,10$ é adequado para ajustar a variável Quantidade de itens em não conformidade? Se sim, justifique; caso não, sugira novos valores para os parâmetros da distribuição ajuste aos dados."
   ]
  },
  {
   "cell_type": "code",
   "execution_count": 34,
   "metadata": {
    "collapsed": false
   },
   "outputs": [
    {
     "name": "stdout",
     "output_type": "stream",
     "text": [
      "Esperamos trabalhar no diretório\n",
      "C:\\Users\\dell\\Documents\\GitHub\\CD1S17\\APS\\Atividade Aula 10\n"
     ]
    }
   ],
   "source": [
    "import os\n",
    "print('Esperamos trabalhar no diretório')\n",
    "print(os.getcwd())\n",
    "carros = pd.read_table('Carros.txt', sep=' ')"
   ]
  },
  {
   "cell_type": "code",
   "execution_count": null,
   "metadata": {
    "collapsed": true
   },
   "outputs": [],
   "source": []
  },
  {
   "cell_type": "markdown",
   "metadata": {
    "collapsed": true
   },
   "source": [
    "___\n",
    "## <font color='blue'>Exercício 3</font>\n",
    "\n",
    "### <font color='red'>**Publicar no github até dia 21/03 INDIVIDUAL **</font>\n",
    "\n",
    "Esse exercício irá explorar modelos de distribuição de Poisson.\n",
    "\n",
    "Uma fábrica produz determinado veículo. O gerente de vendas fechou um negócio que implica na produção de pelo menos 110 unidades nos próximos dois meses. Para isso, será construída uma nova linha de montagem com capacidade para produzir em média 50 veículos por mês (considere meses de 30 dias). A linha funcionará ininterruptamente. Além disso, apenas um veículo é produzido por vez. Considere que um modelo Poisson seja adequado para a quantidade de veículos produzidos.\n",
    "   1. Qual a probabilidade  da produção ser igual a 100 veículos nos próximos dois meses?\n",
    "   2. Qual a probabilidade  da produção ser de pelo menos 100 veículos nos próximos dois meses?\n",
    "   3. Qual a probabilidade da produção ser entre 100 e 110 veículos nos próximos dois meses?\n",
    "   4. Se forem produzidos de pelo menos 100 veículos no próximo mês, qual a probabilidade do gerente cumprir a meta negociada?\n",
    "   5. Caso o prazo seja cumprido, o lucro será da ordem de $250$ mil, caso não seja, o lucro cai para $200$ mil. Qual é o lucro esperado e seu desvio-padrão?\n",
    "\n",
    "**Observação:** Explore os comandos de `stats.poisson`. <sup>[http://docs.scipy.org/doc/scipy/reference/generated/scipy.stats.poisson.html]\n"
   ]
  },
  {
   "cell_type": "code",
   "execution_count": null,
   "metadata": {
    "collapsed": true
   },
   "outputs": [],
   "source": []
  }
 ],
 "metadata": {
  "anaconda-cloud": {},
  "kernelspec": {
   "display_name": "Python [Root]",
   "language": "python",
   "name": "Python [Root]"
  },
  "language_info": {
   "codemirror_mode": {
    "name": "ipython",
    "version": 3
   },
   "file_extension": ".py",
   "mimetype": "text/x-python",
   "name": "python",
   "nbconvert_exporter": "python",
   "pygments_lexer": "ipython3",
   "version": "3.5.2"
  }
 },
 "nbformat": 4,
 "nbformat_minor": 0
}
